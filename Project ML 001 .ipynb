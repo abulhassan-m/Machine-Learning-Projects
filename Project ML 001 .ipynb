{
 "cells": [
  {
   "cell_type": "markdown",
   "id": "af56eea7-f938-441d-b87e-7d5a4f15ffb1",
   "metadata": {},
   "source": [
    "Machine Learning - PROJECT 1: SATELLITE IMAGE DATA ANALYSIS USING NUMPY "
   ]
  },
  {
   "cell_type": "code",
   "execution_count": 2,
   "id": "40ce97c5-40a8-4bcb-a194-78c72b6cac5d",
   "metadata": {},
   "outputs": [],
   "source": [
    "#Loading the libraries we need: numpy, scipy, matplotlib \n",
    "import numpy as np \n",
    "import scipy \n",
    "import imageio \n",
    "import matplotlib.pyplot as plt \n",
    "import skimage  #install scikit-image \n",
    "import warnings \n",
    "warnings.filterwarnings(\"ignore\") "
   ]
  },
  {
   "cell_type": "markdown",
   "id": "c379e464-6948-4095-ade7-767c08632113",
   "metadata": {},
   "source": [
    "Problem Definition"
   ]
  },
  {
   "cell_type": "markdown",
   "id": "0010a771-36f3-4ffa-9e92-86da44a22fae",
   "metadata": {},
   "source": [
    "Data Collection"
   ]
  },
  {
   "cell_type": "code",
   "execution_count": 5,
   "id": "8930232c-bd61-45fa-b23f-41ad7c75fe6d",
   "metadata": {},
   "outputs": [
    {
     "data": {
      "text/plain": [
       "numpy.ndarray"
      ]
     },
     "execution_count": 5,
     "metadata": {},
     "output_type": "execute_result"
    }
   ],
   "source": [
    "#Creating a numpy array from an image file: \n",
    "#Lets choose a WIFIRE satellite image file as an ndarray and display its type \n",
    "from skimage import data \n",
    "photo_data = imageio.imread('data/sd-3layers.jpg') \n",
    "type(photo_data)"
   ]
  },
  {
   "cell_type": "markdown",
   "id": "0514fc61-2301-4741-ae20-d497bf394d0d",
   "metadata": {},
   "source": [
    "Data Preprocessing\n",
    "\n",
    "Handle Missing Value in the columns"
   ]
  },
  {
   "cell_type": "markdown",
   "id": "35b555b7-3c98-49b6-8542-5613a0eca01a",
   "metadata": {},
   "source": [
    "Perform EDA"
   ]
  },
  {
   "cell_type": "markdown",
   "id": "79c581b1-0320-4159-9d88-0ba143e3cbbb",
   "metadata": {},
   "source": [
    "- Model Selection & Training\n",
    "----> Choosing the appropriate machine learning model (regression/classification/clustering)\n",
    "----> (supervised model) Splitting into train and test set\n",
    "  \n",
    "Handling Categorical Data\n",
    "- Encoding\n",
    "- Column Transform\n",
    "- One Hot Encoding\n",
    "- Delete any one column (Dummy Variable Trap)\n",
    "Scaling\n",
    "Dividing into Training and Test data"
   ]
  },
  {
   "cell_type": "markdown",
   "id": "b9bb7cee-66b4-427a-996d-6ed94fb2344a",
   "metadata": {},
   "source": [
    "- Model Evaluation"
   ]
  },
  {
   "cell_type": "markdown",
   "id": "81c3800e-099a-46ac-a001-c628ea783a2a",
   "metadata": {},
   "source": [
    "\n",
    "- Deploy the model"
   ]
  },
  {
   "cell_type": "markdown",
   "id": "589e6ed1-4ceb-4d96-b1b8-e01a2e8d6957",
   "metadata": {},
   "source": [
    "\n",
    "- Model Monitoring & Maintenance"
   ]
  }
 ],
 "metadata": {
  "kernelspec": {
   "display_name": "Python [conda env:base] *",
   "language": "python",
   "name": "conda-base-py"
  },
  "language_info": {
   "codemirror_mode": {
    "name": "ipython",
    "version": 3
   },
   "file_extension": ".py",
   "mimetype": "text/x-python",
   "name": "python",
   "nbconvert_exporter": "python",
   "pygments_lexer": "ipython3",
   "version": "3.12.7"
  }
 },
 "nbformat": 4,
 "nbformat_minor": 5
}
